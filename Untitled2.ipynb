{
  "nbformat": 4,
  "nbformat_minor": 0,
  "metadata": {
    "colab": {
      "provenance": [],
      "toc_visible": true,
      "authorship_tag": "ABX9TyO9hWu4H363sEDA6D0OSyKx",
      "include_colab_link": true
    },
    "kernelspec": {
      "name": "python3",
      "display_name": "Python 3"
    },
    "language_info": {
      "name": "python"
    }
  },
  "cells": [
    {
      "cell_type": "markdown",
      "metadata": {
        "id": "view-in-github",
        "colab_type": "text"
      },
      "source": [
        "<a href=\"https://colab.research.google.com/github/aryan23147/HackHeroes/blob/main/Untitled2.ipynb\" target=\"_parent\"><img src=\"https://colab.research.google.com/assets/colab-badge.svg\" alt=\"Open In Colab\"/></a>"
      ]
    },
    {
      "cell_type": "code",
      "execution_count": 1,
      "metadata": {
        "id": "SjOR4CpgK69E"
      },
      "outputs": [],
      "source": [
        "import tensorflow as tf\n",
        "from tensorflow.keras.models import Sequential\n",
        "from tensorflow.keras.layers import Dense\n",
        "from tensorflow.keras.layers import Flatten\n",
        "from tensorflow.keras.losses import BinaryCrossentropy\n",
        "from tensorflow.keras.losses import SparseCategoricalCrossentropy\n",
        "from tensorflow.keras.optimizers import Adam\n",
        "import numpy as np"
      ]
    },
    {
      "cell_type": "code",
      "source": [
        "from tensorflow.keras.datasets import mnist"
      ],
      "metadata": {
        "id": "_ycNuxq5ThMf"
      },
      "execution_count": 2,
      "outputs": []
    },
    {
      "cell_type": "code",
      "source": [
        "(x_train,y_train),(x_test,y_test)=mnist.load_data()"
      ],
      "metadata": {
        "id": "UOir31sgAslQ",
        "colab": {
          "base_uri": "https://localhost:8080/"
        },
        "outputId": "02227c79-8b0e-4bbf-e09d-0e51f3ca5f64"
      },
      "execution_count": 3,
      "outputs": [
        {
          "output_type": "stream",
          "name": "stdout",
          "text": [
            "Downloading data from https://storage.googleapis.com/tensorflow/tf-keras-datasets/mnist.npz\n",
            "11490434/11490434 [==============================] - 0s 0us/step\n"
          ]
        }
      ]
    },
    {
      "cell_type": "code",
      "source": [
        "x_train=tf.keras.utils.normalize(x_train,axis=1)\n",
        "x_test=tf.keras.utils.normalize(x_test,axis=1)"
      ],
      "metadata": {
        "id": "yypfIPOYfCei"
      },
      "execution_count": 4,
      "outputs": []
    },
    {
      "cell_type": "code",
      "source": [
        "y_train.shape"
      ],
      "metadata": {
        "colab": {
          "base_uri": "https://localhost:8080/"
        },
        "id": "xCnh9_zWXaQa",
        "outputId": "d40d2e4b-9497-443e-f162-cb4fc8ff7c32"
      },
      "execution_count": 5,
      "outputs": [
        {
          "output_type": "execute_result",
          "data": {
            "text/plain": [
              "(60000,)"
            ]
          },
          "metadata": {},
          "execution_count": 5
        }
      ]
    },
    {
      "cell_type": "code",
      "source": [
        "model=Sequential([Flatten(input_shape=(28,28)),Dense(units=15,activation='relu'),Dense(units=10,activation='softmax')])"
      ],
      "metadata": {
        "id": "oVKdCua2T49R"
      },
      "execution_count": 6,
      "outputs": []
    },
    {
      "cell_type": "code",
      "source": [
        "model.compile(loss=SparseCategoricalCrossentropy(),metrics=['accuracy'])"
      ],
      "metadata": {
        "id": "eG7TJCyWUVnW"
      },
      "execution_count": 7,
      "outputs": []
    },
    {
      "cell_type": "code",
      "source": [
        "y_train_reshaped = tf.reshape(y_train, (-1, 1))\n"
      ],
      "metadata": {
        "id": "Tu8oMqhMVnvW"
      },
      "execution_count": 8,
      "outputs": []
    },
    {
      "cell_type": "code",
      "source": [
        "print(y_train_reshaped.shape)\n",
        "print(model.output.shape)\n",
        "print(x_train.shape)\n",
        "print(model.input.shape)"
      ],
      "metadata": {
        "colab": {
          "base_uri": "https://localhost:8080/"
        },
        "id": "Wj779G0NY0-j",
        "outputId": "9f41c407-6a3d-4a31-b172-fcacef641cc9"
      },
      "execution_count": 9,
      "outputs": [
        {
          "output_type": "stream",
          "name": "stdout",
          "text": [
            "(60000, 1)\n",
            "(None, 10)\n",
            "(60000, 28, 28)\n",
            "(None, 28, 28)\n"
          ]
        }
      ]
    },
    {
      "cell_type": "code",
      "source": [
        "model.fit(x_train,y_train,epochs=3)"
      ],
      "metadata": {
        "colab": {
          "base_uri": "https://localhost:8080/"
        },
        "id": "71dD3bl4Ux8w",
        "outputId": "92cabcd7-0b3a-40a8-a29c-5c8c6d49a540"
      },
      "execution_count": 10,
      "outputs": [
        {
          "output_type": "stream",
          "name": "stdout",
          "text": [
            "Epoch 1/3\n",
            "1875/1875 [==============================] - 6s 3ms/step - loss: 0.5141 - accuracy: 0.8637\n",
            "Epoch 2/3\n",
            "1875/1875 [==============================] - 4s 2ms/step - loss: 0.2884 - accuracy: 0.9168\n",
            "Epoch 3/3\n",
            "1875/1875 [==============================] - 4s 2ms/step - loss: 0.2549 - accuracy: 0.9261\n"
          ]
        },
        {
          "output_type": "execute_result",
          "data": {
            "text/plain": [
              "<keras.src.callbacks.History at 0x7b429551e140>"
            ]
          },
          "metadata": {},
          "execution_count": 10
        }
      ]
    },
    {
      "cell_type": "code",
      "source": [],
      "metadata": {
        "id": "Pd8CbIdZa7ni"
      },
      "execution_count": null,
      "outputs": []
    },
    {
      "cell_type": "code",
      "source": [
        "\n",
        "print(y_test.shape)\n",
        "print(x_test.shape)\n",
        "# Evaluate the model\n",
        "loss,accuracy = model.evaluate(x_test, y_test)\n",
        "\n",
        "accuracy"
      ],
      "metadata": {
        "colab": {
          "base_uri": "https://localhost:8080/"
        },
        "id": "HoWbLpSxapZn",
        "outputId": "652491ff-546e-4a64-e6cc-eb660424abf2"
      },
      "execution_count": 11,
      "outputs": [
        {
          "output_type": "stream",
          "name": "stdout",
          "text": [
            "(10000,)\n",
            "(10000, 28, 28)\n",
            "313/313 [==============================] - 1s 2ms/step - loss: 0.2477 - accuracy: 0.9290\n"
          ]
        },
        {
          "output_type": "execute_result",
          "data": {
            "text/plain": [
              "0.9290000200271606"
            ]
          },
          "metadata": {},
          "execution_count": 11
        }
      ]
    },
    {
      "cell_type": "code",
      "source": [
        "import cv2 as cv\n",
        "import numpy as np"
      ],
      "metadata": {
        "id": "en4Cni8tg9I1"
      },
      "execution_count": 12,
      "outputs": []
    },
    {
      "cell_type": "code",
      "source": [
        "img=cv.imread('number4.png')"
      ],
      "metadata": {
        "id": "7Az2j57ea_LK"
      },
      "execution_count": 15,
      "outputs": []
    },
    {
      "cell_type": "code",
      "source": [
        "img=img[:,:,0]\n",
        "img.shape\n"
      ],
      "metadata": {
        "colab": {
          "base_uri": "https://localhost:8080/"
        },
        "id": "rJereAFihgvl",
        "outputId": "cf6d5d59-71f4-4a5a-ae1b-7366f1dd53df"
      },
      "execution_count": 16,
      "outputs": [
        {
          "output_type": "execute_result",
          "data": {
            "text/plain": [
              "(28, 28)"
            ]
          },
          "metadata": {},
          "execution_count": 16
        }
      ]
    },
    {
      "cell_type": "code",
      "source": [
        "img=np.invert(np.array([img]))\n",
        "print(img.shape)\n",
        "print(model.input.shape)\n",
        "prediction=model.predict(img)"
      ],
      "metadata": {
        "colab": {
          "base_uri": "https://localhost:8080/"
        },
        "id": "McO9h0OlilXj",
        "outputId": "3d475c1f-02b2-49a1-ceaa-fc994ae18a5f"
      },
      "execution_count": 17,
      "outputs": [
        {
          "output_type": "stream",
          "name": "stdout",
          "text": [
            "(1, 28, 28)\n",
            "(None, 28, 28)\n",
            "1/1 [==============================] - 0s 116ms/step\n"
          ]
        }
      ]
    },
    {
      "cell_type": "code",
      "source": [
        "print(np.argmax(prediction))"
      ],
      "metadata": {
        "colab": {
          "base_uri": "https://localhost:8080/"
        },
        "id": "t5I6qGYTjiB9",
        "outputId": "74300e00-b529-4788-d0d7-6ce7d0749c2f"
      },
      "execution_count": 18,
      "outputs": [
        {
          "output_type": "stream",
          "name": "stdout",
          "text": [
            "1\n"
          ]
        }
      ]
    },
    {
      "cell_type": "code",
      "source": [
        "i=9;\n",
        "while(i>=0):\n",
        "  img=cv.imread(f\"/number{i}.png\")\n",
        "  img=img[:,:,0]\n",
        "  img=np.invert(np.array([img]))\n",
        "  prediction=model.predict(img)\n",
        "  print(i)\n",
        "  print(np.argmax(prediction))\n",
        "  i-=1\n",
        "loss,accuracy=model.evaluate(x_test,y_test)\n",
        "print(accuracy)"
      ],
      "metadata": {
        "colab": {
          "base_uri": "https://localhost:8080/"
        },
        "id": "PFKIEmGvkhEM",
        "outputId": "e7a20b47-8e33-41a2-90ec-d13806d2fc47"
      },
      "execution_count": null,
      "outputs": [
        {
          "output_type": "stream",
          "name": "stdout",
          "text": [
            "1/1 [==============================] - 0s 34ms/step\n",
            "9\n",
            "0\n",
            "1/1 [==============================] - 0s 34ms/step\n",
            "8\n",
            "8\n",
            "1/1 [==============================] - 0s 39ms/step\n",
            "7\n",
            "6\n",
            "1/1 [==============================] - 0s 34ms/step\n",
            "6\n",
            "6\n",
            "1/1 [==============================] - 0s 41ms/step\n",
            "5\n",
            "8\n",
            "1/1 [==============================] - 0s 39ms/step\n",
            "4\n",
            "6\n",
            "1/1 [==============================] - 0s 49ms/step\n",
            "3\n",
            "0\n",
            "1/1 [==============================] - 0s 35ms/step\n",
            "2\n",
            "2\n",
            "1/1 [==============================] - 0s 33ms/step\n",
            "1\n",
            "2\n",
            "1/1 [==============================] - 0s 33ms/step\n",
            "0\n",
            "7\n",
            "313/313 [==============================] - 1s 4ms/step - loss: 0.3489 - accuracy: 0.9067\n",
            "0.9067000150680542\n"
          ]
        }
      ]
    }
  ]
}